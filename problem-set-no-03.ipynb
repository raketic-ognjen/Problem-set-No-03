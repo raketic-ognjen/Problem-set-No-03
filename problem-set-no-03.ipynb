{
  "cells": [
    {
      "cell_type": "markdown",
      "source": [
        "<font color='DarkBlue ' style=\"font-size:25px\"><b>Problem 1 - Net present value with arbitrary cash flows, discount rates and timing of cash flow occurance</b></font>"
      ],
      "metadata": {
        "id": "G5m0WX18z3TO"
      },
      "id": "G5m0WX18z3TO"
    },
    {
      "cell_type": "markdown",
      "source": [
        "In Lecture 3 we have shown how to calculate net present value of cash flows that all differ from each each, using the same discount rate for each cash flow. On the figure below we present generic cash flows and the corresponding discount rates. Since cash flows at time 0 are not discounted, the discount rate for $c_0$ is 0. Rates $r_t$ are spot rates, i.e. present value of a cash flow at time $t$ is\n",
        "\n",
        "$$\\frac{c_t}{(1+r)^t}$$"
      ],
      "metadata": {
        "id": "JKXgMNMSz7Fo"
      },
      "id": "JKXgMNMSz7Fo"
    },
    {
      "cell_type": "markdown",
      "source": [
        "![week2exer1.png](data:image/png;base64,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)"
      ],
      "metadata": {
        "id": "FnSmyxy-z_IC"
      },
      "id": "FnSmyxy-z_IC"
    },
    {
      "cell_type": "markdown",
      "source": [
        "**Part a** Write down the expression for the net present value of such arbitrary stream of cash flows when spot rates are not constant, i.e. discount rate changes over time (this is a typical situation in real life)"
      ],
      "metadata": {
        "id": "bce5wXEG0Fw1"
      },
      "id": "bce5wXEG0Fw1"
    },
    {
      "cell_type": "markdown",
      "source": [
        "**Solution of part a**\n"
      ],
      "metadata": {
        "id": "w9TqOYsF1xJf"
      },
      "id": "w9TqOYsF1xJf"
    },
    {
      "cell_type": "markdown",
      "source": [
        "NPV = Σt=0∞ CFt / (1+ r(t))t\n",
        "\n",
        "$$NPV = Σt = 0_∞ \\frac{CFt}{(1+r(t))t}$$"
      ],
      "metadata": {
        "id": "v6Jri1JR0WZ2"
      },
      "id": "v6Jri1JR0WZ2"
    },
    {
      "cell_type": "markdown",
      "source": [
        "**Part b** In Lecture 3 we have shown how to calculate the present value of a single cash flow. We have also seen how to calculate net present value of an arbitrary stream of cash flows occuring in arbitrary time but using a constant discount rate (the same for each cash flow).\n",
        "\n",
        "Now we would like you to combine these known things are write a function npv that would generalize previously defined npv function to allow as an input a list of discount rates instead of a single constant rate.\n",
        "\n",
        "If you can, try to define this npv function while placing needed auxiliary functions as inner function so that the user (we) initialize only one function and not several in order to do this calculation. Of course, if this is too hard, do it any way you can."
      ],
      "metadata": {
        "id": "WRsEIvP21zd7"
      },
      "id": "WRsEIvP21zd7"
    },
    {
      "cell_type": "code",
      "source": [
        "def npv(cf, r, periods):\n",
        "  \"\"\"\n",
        "  cf = cash flows\n",
        "  r = discount rates\n",
        "  periods = years\n",
        "  \"\"\"\n",
        "  def pv(cf,r,t):\n",
        "    \"\"\"\n",
        "    cf: The cash flow.\n",
        "      r: The discount rate.\n",
        "      t: The time period.\n",
        "    \"\"\"\n",
        "    return cf / (1+r)**t\n",
        "\n",
        "  npv = 0\n",
        "  for cf,r,t in zip(cf,r,periods):\n",
        "    npv += pv(cf,r,t)\n",
        "\n",
        "  return npv"
      ],
      "metadata": {
        "id": "rt2m5k0u1nRD"
      },
      "id": "rt2m5k0u1nRD",
      "execution_count": 6,
      "outputs": []
    },
    {
      "cell_type": "code",
      "source": [
        "cf = [-1000, 400, 300, 500]\n",
        "r = [0,0.03, 0.05, 0.04]\n",
        "periods=[0,1,2,3]\n",
        "\n",
        "print(npv(cf,r,periods))"
      ],
      "metadata": {
        "id": "Eu01F-g_35ar",
        "outputId": "baa09fd1-d9d0-4b3e-ed34-628a57146b6f",
        "colab": {
          "base_uri": "https://localhost:8080/"
        }
      },
      "id": "Eu01F-g_35ar",
      "execution_count": 14,
      "outputs": [
        {
          "output_type": "stream",
          "name": "stdout",
          "text": [
            "104.95653743597916\n"
          ]
        }
      ]
    },
    {
      "cell_type": "markdown",
      "source": [
        "According positive testing, we should undertake the project."
      ],
      "metadata": {
        "id": "8qpKbQb87F1c"
      },
      "id": "8qpKbQb87F1c"
    },
    {
      "cell_type": "markdown",
      "source": [
        "**Part d.** Check your solution using simple arithmetics, i.e. just numbers without any programming"
      ],
      "metadata": {
        "id": "9WQsQs0I7Ulm"
      },
      "id": "9WQsQs0I7Ulm"
    },
    {
      "cell_type": "code",
      "source": [
        "(-1000/(1+0.0)**0)+(400/(1+0.03)**1)+(300/(1+0.05)**2)+(500/(1+0.04)**3)"
      ],
      "metadata": {
        "id": "594jZZxi7XBu",
        "outputId": "0c9fa956-4342-48d6-816b-673a64bec7dd",
        "colab": {
          "base_uri": "https://localhost:8080/"
        }
      },
      "id": "594jZZxi7XBu",
      "execution_count": 17,
      "outputs": [
        {
          "output_type": "execute_result",
          "data": {
            "text/plain": [
              "104.95653743597916"
            ]
          },
          "metadata": {},
          "execution_count": 17
        }
      ]
    },
    {
      "cell_type": "markdown",
      "source": [
        "<font color='DarkBlue ' style=\"font-size:25px\"><b>Problem 2 - Planning for the retirement (two annuities, before and after the retirement)</b></font>"
      ],
      "metadata": {
        "id": "1n6cX_1E9Xlo"
      },
      "id": "1n6cX_1E9Xlo"
    },
    {
      "cell_type": "markdown",
      "source": [
        "Your task is to figure out, at least in broad strokes, how much should you save on an annual basis in order to have enough money to retire.\n",
        "\n",
        "**Part a**. Find, as a group, the integer value of the average value of your age and determine how much years you have to retirement. Thing of this \"average group man\" as the person planning to retire. Take the retirement age to be 67. Agree upon, for simplicity, also on a constant discount (accumulation) rate that is reasonable in case of saving for the retirement and use this same rate as a discount rate post retirement.  Try to explain your reasoning. Make other assumptions as needed (just explain them)."
      ],
      "metadata": {
        "id": "sZuZOj3P9bls"
      },
      "id": "sZuZOj3P9bls"
    },
    {
      "cell_type": "markdown",
      "source": [
        "The average age of the group is 35. So, the average person has 67 - 35 = 32 years until retirement.\n",
        "\n",
        "We will use a discount rate of 5%. This is a reasonable rate because it is close to the average long-term return of the stock market. We will use the same rate for both pre- and post-retirement.\n",
        "\n",
        "To figure out how much we need to save each year, we can use the following formula:\n",
        "$$ SPY = \\frac{RG}{(1+DR)^Y}$$\n",
        "\n"
      ],
      "metadata": {
        "id": "BMjpUJMe9p_K"
      },
      "id": "BMjpUJMe9p_K"
    },
    {
      "cell_type": "markdown",
      "source": [
        "**Part b**. Try to find a concensus view on how much money you need on an annual basis for retirement. This is an annuity of pension cash flows. Also the same for how many years you expect to enjoy these benefits (make reasonable guesstimates)."
      ],
      "metadata": {
        "id": "2tHXQCQ8-2vA"
      },
      "id": "2tHXQCQ8-2vA"
    },
    {
      "cell_type": "markdown",
      "source": [
        "The consensus view on how much money is needed on an annual basis for retirement is USD 50,000. This is based on the assumption that a person will need to replace 80% of their pre-retirement income in retirement. The average pre-retirement income of the group is USD 62,500, so this means that the average person will need USD 50,000 per year in retirement.\n",
        "\n",
        "The total retirement savings needed is therefore USD 1,000,000. This is calculated by multiplying the annual retirement income of USD50,000 by the expected number of years in retirement of 20.\n",
        "\n"
      ],
      "metadata": {
        "id": "yFDCfzua-3Iv"
      },
      "id": "yFDCfzua-3Iv"
    },
    {
      "cell_type": "markdown",
      "source": [
        "**Part c** Now find the annual cash flows (assuming annuity again) that you need to save each year to be able to afford annual payments from **part b**. Best to draw the time line carefully from before and after the retirement."
      ],
      "metadata": {
        "id": "fYSnDaTb_tcz"
      },
      "id": "fYSnDaTb_tcz"
    },
    {
      "cell_type": "code",
      "source": [
        "annual_saving = (50000*20)/((1+0.05)**32)\n",
        "print(annual_saving)"
      ],
      "metadata": {
        "id": "SX7ri3uM_qvv",
        "outputId": "c352a8d3-72dc-4412-f27e-b025a60b5fa4",
        "colab": {
          "base_uri": "https://localhost:8080/"
        }
      },
      "id": "SX7ri3uM_qvv",
      "execution_count": 22,
      "outputs": [
        {
          "output_type": "stream",
          "name": "stdout",
          "text": [
            "209866.16658127698\n"
          ]
        }
      ]
    },
    {
      "cell_type": "code",
      "source": [
        "1000000/(1.05**32)"
      ],
      "metadata": {
        "id": "kFL70rheAQkg",
        "outputId": "3b1bc9fc-9b49-48ed-f8b9-1cb426724635",
        "colab": {
          "base_uri": "https://localhost:8080/"
        }
      },
      "id": "kFL70rheAQkg",
      "execution_count": 19,
      "outputs": [
        {
          "output_type": "execute_result",
          "data": {
            "text/plain": [
              "209866.16658127698"
            ]
          },
          "metadata": {},
          "execution_count": 19
        }
      ]
    },
    {
      "cell_type": "markdown",
      "source": [
        "**Part d** Try to give qualitative argument (no calculations necessary) what are some of the key pieces missing here to obtain more realistic assessment on how to save for retirement?"
      ],
      "metadata": {
        "id": "ZfIszusXBDI1"
      },
      "id": "ZfIszusXBDI1"
    },
    {
      "cell_type": "markdown",
      "source": [
        "Some of the key pieces missing from this analysis include:\n",
        "\n",
        "* Inflation: We have assumed that the cost of living will not increase in\n",
        "retirement. This is not realistic, so we would need to adjust our savings rate accordingly.\n",
        "* Healthcare costs: Healthcare costs are likely to be much higher in retirement than they are now. We would need to factor this into our savings plan.\n",
        "* Social Security: We have not included Social Security benefits in our analysis. This is a significant source of income for many retirees, so we would need to adjust our savings rate accordingly if we expect to receive Social Security benefits."
      ],
      "metadata": {
        "id": "GIw7f1ZoBBEB"
      },
      "id": "GIw7f1ZoBBEB"
    },
    {
      "cell_type": "markdown",
      "source": [
        "<font color='DarkBlue ' style=\"font-size:25px\"><b>Problem 3 - Generalizing Fibonacci sequence</b></font>"
      ],
      "metadata": {
        "id": "5dR3EoW0BXMQ"
      },
      "id": "5dR3EoW0BXMQ"
    },
    {
      "cell_type": "markdown",
      "source": [
        "Fibonacci, also known as Leonardo Bonacci, Leonardo of Pisa had to work hard to come up with that sequence. Now that we have a comp at our disposal, generalizing this is not hard.\n",
        "\n",
        "**Part a**. Write in Python function $g(n)$ taking values on natural numbers which has the following properties\n",
        "\n",
        "$$g(1) =g(2) =1$$\n",
        "$$g(n) =g(n-2) + 2 g(n-1), n>2$$"
      ],
      "metadata": {
        "id": "hpNzBWztBa0a"
      },
      "id": "hpNzBWztBa0a"
    },
    {
      "cell_type": "markdown",
      "source": [
        "and calculate the sequence of first 20 of these numbers"
      ],
      "metadata": {
        "id": "48Net-VyB5Jp"
      },
      "id": "48Net-VyB5Jp"
    },
    {
      "cell_type": "markdown",
      "source": [
        "**Solution to part a**"
      ],
      "metadata": {
        "id": "9ZQt9sLWB_Fo"
      },
      "id": "9ZQt9sLWB_Fo"
    },
    {
      "cell_type": "code",
      "source": [
        "def g(n):\n",
        "  if n == 1 or n == 2:\n",
        "    return 1\n",
        "  else:\n",
        "    return g(n-2) + 2*g(n-1)"
      ],
      "metadata": {
        "id": "2UXPufQuBYtP"
      },
      "id": "2UXPufQuBYtP",
      "execution_count": 55,
      "outputs": []
    },
    {
      "cell_type": "code",
      "source": [
        "def sequence():\n",
        "  for i in range(1,21):\n",
        "    print(g(i))"
      ],
      "metadata": {
        "id": "IL80jRpKCKDn"
      },
      "id": "IL80jRpKCKDn",
      "execution_count": 57,
      "outputs": []
    },
    {
      "cell_type": "code",
      "source": [
        "print(g(1))\n",
        "print(g(2))\n",
        "print(g(3))\n",
        "print(g(4))\n",
        "print(g(5))\n",
        "print(g(5))\n",
        "print(g(6))\n",
        "print(g(7))\n",
        "print(g(8))\n",
        "print(g(9))\n",
        "print(g(10))\n",
        "print(g(11))\n",
        "print(g(12))\n",
        "print(g(13))\n",
        "print(g(14))\n",
        "print(g(15))\n",
        "print(g(16))\n",
        "print(g(17))\n",
        "print(g(18))\n",
        "print(g(19))\n",
        "print(g(20))"
      ],
      "metadata": {
        "id": "VRFPx-dMCWE4",
        "outputId": "c8ebc33c-4dbe-4415-f0dc-d2bd82137465",
        "colab": {
          "base_uri": "https://localhost:8080/"
        }
      },
      "id": "VRFPx-dMCWE4",
      "execution_count": 58,
      "outputs": [
        {
          "output_type": "stream",
          "name": "stdout",
          "text": [
            "1\n",
            "1\n",
            "3\n",
            "7\n",
            "17\n",
            "17\n",
            "41\n",
            "99\n",
            "239\n",
            "577\n",
            "1393\n",
            "3363\n",
            "8119\n",
            "19601\n",
            "47321\n",
            "114243\n",
            "275807\n",
            "665857\n",
            "1607521\n",
            "3880899\n",
            "9369319\n"
          ]
        }
      ]
    },
    {
      "cell_type": "markdown",
      "source": [
        "b. For each $n$ in that list, find the  $g(n)/f(n)$, where $f(n)$ are the corresponding Fibonacci numbers. What can you conclude?"
      ],
      "metadata": {
        "id": "vQCR_wNQEt5c"
      },
      "id": "vQCR_wNQEt5c"
    },
    {
      "cell_type": "markdown",
      "source": [
        "**Solution to part b**"
      ],
      "metadata": {
        "id": "YJBW7NRrEwAJ"
      },
      "id": "YJBW7NRrEwAJ"
    },
    {
      "cell_type": "code",
      "source": [
        "def g(n):\n",
        "  if n == 1 or n == 2:\n",
        "    return 1\n",
        "  else:\n",
        "    return g(n - 2) + 2 *g(n - 1)\n",
        "\n",
        "def main():\n",
        "  sequence = []\n",
        "  for i in range(1,21):\n",
        "    sequence.append(g(i))\n",
        "  print(sequence)\n",
        "\n",
        "  for i in range(1,21):\n",
        "    ratio = g(i) / fibonacci(i)\n",
        "    print(f\"g({i}) / f({i}) = {ratio}\")\n",
        "\n",
        "def fibonacci(n):\n",
        "  if n == 0:\n",
        "    return 0\n",
        "  elif n == 1:\n",
        "    return 1\n",
        "  else:\n",
        "    return fibonacci(n - 1) + fibonacci(n - 2)\n",
        "\n",
        "if __name__ ==\"__main__\":\n",
        "  main()"
      ],
      "metadata": {
        "id": "GhqgfRdCChoq",
        "outputId": "e9900640-6719-48b7-9d4e-34b4e4336081",
        "colab": {
          "base_uri": "https://localhost:8080/"
        }
      },
      "id": "GhqgfRdCChoq",
      "execution_count": 52,
      "outputs": [
        {
          "output_type": "stream",
          "name": "stdout",
          "text": [
            "[1, 1, 3, 7, 17, 41, 99, 239, 577, 1393, 3363, 8119, 19601, 47321, 114243, 275807, 665857, 1607521, 3880899, 9369319]\n",
            "g(1) / f(1) = 1.0\n",
            "g(2) / f(2) = 1.0\n",
            "g(3) / f(3) = 1.5\n",
            "g(4) / f(4) = 2.3333333333333335\n",
            "g(5) / f(5) = 3.4\n",
            "g(6) / f(6) = 5.125\n",
            "g(7) / f(7) = 7.615384615384615\n",
            "g(8) / f(8) = 11.380952380952381\n",
            "g(9) / f(9) = 16.970588235294116\n",
            "g(10) / f(10) = 25.327272727272728\n",
            "g(11) / f(11) = 37.78651685393258\n",
            "g(12) / f(12) = 56.38194444444444\n",
            "g(13) / f(13) = 84.12446351931331\n",
            "g(14) / f(14) = 125.51989389920425\n",
            "g(15) / f(15) = 187.28360655737706\n",
            "g(16) / f(16) = 279.43971631205676\n",
            "g(17) / f(17) = 416.94239198497183\n",
            "g(18) / f(18) = 622.1056501547988\n",
            "g(19) / f(19) = 928.222674001435\n",
            "g(20) / f(20) = 1384.969549150037\n"
          ]
        }
      ]
    },
    {
      "cell_type": "code",
      "source": [],
      "metadata": {
        "id": "t3_62vbyF724"
      },
      "id": "t3_62vbyF724",
      "execution_count": null,
      "outputs": []
    }
  ],
  "metadata": {
    "kernelspec": {
      "display_name": "Python 3",
      "language": "python",
      "name": "python3"
    },
    "language_info": {
      "codemirror_mode": {
        "name": "ipython",
        "version": 3
      },
      "file_extension": ".py",
      "mimetype": "text/x-python",
      "name": "python",
      "nbconvert_exporter": "python",
      "pygments_lexer": "ipython3",
      "version": "3.10.12"
    },
    "papermill": {
      "default_parameters": {},
      "duration": 13.00861,
      "end_time": "2023-07-26T20:03:32.351729",
      "environment_variables": {},
      "exception": null,
      "input_path": "__notebook__.ipynb",
      "output_path": "__notebook__.ipynb",
      "parameters": {},
      "start_time": "2023-07-26T20:03:19.343119",
      "version": "2.4.0"
    },
    "colab": {
      "provenance": []
    }
  },
  "nbformat": 4,
  "nbformat_minor": 5
}